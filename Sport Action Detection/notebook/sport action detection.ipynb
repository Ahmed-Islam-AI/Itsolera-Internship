{
 "cells": [
  {
   "cell_type": "markdown",
   "metadata": {},
   "source": [
    "<h1><b> Sports Action Recognition Using CNN and LSTM : Team Epsilon </b></h1>"
   ]
  },
  {
   "cell_type": "code",
   "execution_count": 1,
   "metadata": {
    "id": "zWoXqlMhckDh"
   },
   "outputs": [],
   "source": [
    "%%capture\n",
    "!pip install pafy youtube-dl moviepy os cv2 sklearn"
   ]
  },
  {
   "cell_type": "code",
   "execution_count": null,
   "metadata": {
    "editable": true,
    "slideshow": {
     "slide_type": ""
    },
    "tags": []
   },
   "outputs": [],
   "source": [
    "!pip install opencv-python numpy datetime tensorflow"
   ]
  },
  {
   "cell_type": "code",
   "execution_count": null,
   "metadata": {},
   "outputs": [],
   "source": [
    "!pip install pafy\n",
    "!pip install moviepy\n"
   ]
  },
  {
   "cell_type": "markdown",
   "metadata": {},
   "source": [
    "<h2>Importing Necessory Libraries</h2>"
   ]
  },
  {
   "cell_type": "code",
   "execution_count": 5,
   "metadata": {
    "id": "ezdndU-McrlL"
   },
   "outputs": [],
   "source": [
    "\n",
    "\n",
    "import os\n",
    "import cv2\n",
    "import math\n",
    "import random\n",
    "import numpy as np\n",
    "import datetime as dt\n",
    "import tensorflow as tf\n",
    "from collections import deque\n",
    "import matplotlib.pyplot as plt\n",
    "\n",
    "from moviepy.editor import *\n",
    "%matplotlib inline\n",
    "\n",
    "from sklearn.model_selection import train_test_split\n",
    "from tensorflow.keras.models import Sequential\n",
    "from tensorflow.keras.utils import to_categorical\n",
    "from tensorflow.keras.callbacks import EarlyStopping\n",
    "from tensorflow.keras.utils import plot_model"
   ]
  },
  {
   "cell_type": "markdown",
   "metadata": {},
   "source": [
    "<h2>Set Random Seed Value Constant thorugh out the program</h2>"
   ]
  },
  {
   "cell_type": "code",
   "execution_count": 6,
   "metadata": {
    "id": "e4qr39g1cugG"
   },
   "outputs": [],
   "source": [
    "import numpy as np\n",
    "import random\n",
    "import tensorflow as tf\n",
    "seed_constant = 27\n",
    "np.random.seed(seed_constant)\n",
    "random.seed(seed_constant)\n",
    "tf.random.set_seed(seed_constant)"
   ]
  },
  {
   "cell_type": "code",
   "execution_count": 12,
   "metadata": {
    "id": "1oD9VFdPc_LL"
   },
   "outputs": [],
   "source": [
    "data_dir = 'data_dir' # Dataset Path"
   ]
  },
  {
   "cell_type": "markdown",
   "metadata": {},
   "source": [
    "<h2>Plotting Some of the Samples</h2>"
   ]
  },
  {
   "cell_type": "code",
   "execution_count": null,
   "metadata": {},
   "outputs": [],
   "source": [
    "plt.figure(figsize=(20, 20))\n",
    "\n",
    "# Get the class names (subdirectories)\n",
    "classes_names = os.listdir(data_dir)\n",
    "\n",
    "# Determine the sample size to take\n",
    "sample_size = min(20, len(classes_names))  # Sample only up to the number of available classes\n",
    "\n",
    "# Generate random indices\n",
    "random_range = random.sample(range(len(classes_names)), sample_size)\n",
    "\n",
    "for counter, random_index in enumerate(random_range, 1):\n",
    "    select_class_name = classes_names[random_index]\n",
    "    \n",
    "    # List video files in the selected class directory\n",
    "    video_file_name_list = os.listdir(os.path.join(data_dir, select_class_name))\n",
    "    \n",
    "    # Select a random video file\n",
    "    select_video_file = random.choice(video_file_name_list)\n",
    "    \n",
    "    # Open the video file\n",
    "    video_reader = cv2.VideoCapture(os.path.join(data_dir, select_class_name, select_video_file))\n",
    "\n",
    "    # Read the first frame of the video\n",
    "    ret, bgr_frame = video_reader.read()\n",
    "\n",
    "    # Break the loop if there are no frames left\n",
    "    if not ret:\n",
    "        print(f\"Error: Could not read frame from {select_video_file}\")\n",
    "        continue  # Skip to the next iteration if the frame could not be read\n",
    "\n",
    "    # Release the video reader\n",
    "    video_reader.release()\n",
    "\n",
    "    # Convert the frame from BGR to RGB\n",
    "    rgb_frame = cv2.cvtColor(bgr_frame, cv2.COLOR_BGR2RGB)\n",
    "\n",
    "    # Add the class name as text on the frame\n",
    "    cv2.putText(rgb_frame, select_class_name, (10, 30), cv2.FONT_HERSHEY_SIMPLEX, 1, (255, 255, 255), 2)\n",
    "\n",
    "    # Display the frame\n",
    "    plt.subplot(5, 4, counter)\n",
    "    plt.imshow(rgb_frame)\n",
    "    plt.axis('off')\n",
    "\n",
    "# Show the plot with the frames\n",
    "plt.show()"
   ]
  },
  {
   "cell_type": "code",
   "execution_count": 63,
   "metadata": {},
   "outputs": [
    {
     "data": {
      "text/plain": [
       "['BaseballPitch',\n",
       " 'Basketball',\n",
       " 'Billiards',\n",
       " 'GolfSwing',\n",
       " 'JavelinThrow',\n",
       " 'TennisSwing',\n",
       " 'ThrowDiscus',\n",
       " 'VolleyballSpiking']"
      ]
     },
     "execution_count": 63,
     "metadata": {},
     "output_type": "execute_result"
    }
   ],
   "source": [
    "classes_names"
   ]
  },
  {
   "cell_type": "code",
   "execution_count": 21,
   "metadata": {},
   "outputs": [],
   "source": [
    "img_height, img_width = 64, 64"
   ]
  },
  {
   "cell_type": "code",
   "execution_count": 14,
   "metadata": {},
   "outputs": [],
   "source": [
    "# number opf frames of video that will be fed to the model as one sequence\n",
    "\n",
    "sequence_length = 20 \n",
    "\n",
    "DATASET_DIR = data_dir\n",
    "\n",
    "classes_list = ['BaseballPitch',\n",
    " 'Basketball',\n",
    " 'Billiards',\n",
    " 'GolfSwing',\n",
    " 'JavelinThrow',\n",
    " 'TennisSwing',\n",
    " 'ThrowDiscus',\n",
    " 'VolleyballSpiking']"
   ]
  },
  {
   "cell_type": "markdown",
   "metadata": {},
   "source": [
    "# Frame Extraction"
   ]
  },
  {
   "cell_type": "code",
   "execution_count": 67,
   "metadata": {},
   "outputs": [],
   "source": [
    "def frame_extraction(video_path):\n",
    "\n",
    "    frame_list = []\n",
    "\n",
    "    video_reader = cv2.VideoCapture(video_path)\n",
    "    video_frame_count = int(video_reader.get(cv2.CAP_PROP_FRAME_COUNT))\n",
    "    skip_frame_window = max(int(video_frame_count/sequence_length), 1)\n",
    "\n",
    "    for frame_counter  in range(sequence_length):\n",
    "        video_reader.set(cv2.CAP_PROP_POS_FRAMES, frame_counter * skip_frame_window)\n",
    "        success, frame = video_reader.read()\n",
    "\n",
    "        if not success:\n",
    "            break\n",
    "        resize_frame = cv2.resize(frame, (img_height, img_width))\n",
    "        normalized_frame = resize_frame/225\n",
    "        frame_list.append(normalized_frame)\n",
    "\n",
    "    video_reader.release()\n",
    "\n",
    "    return frame_list"
   ]
  },
  {
   "cell_type": "markdown",
   "metadata": {},
   "source": [
    "# creating a dataset by using the classes name and the file path"
   ]
  },
  {
   "cell_type": "code",
   "execution_count": 69,
   "metadata": {},
   "outputs": [],
   "source": [
    "def create_dataset():\n",
    "    features = []\n",
    "    labels = []\n",
    "    video_file_paths = []\n",
    "\n",
    "    for class_index, class_name in enumerate(classes_list):\n",
    "        print(\"Extracting data of Class: \",class_name)\n",
    "\n",
    "        files_list = os.listdir(os.path.join(data_dir, class_name))\n",
    "\n",
    "\n",
    "        for file_name  in files_list:\n",
    "            video_file_path = os.path.join(data_dir, class_name, file_name)\n",
    "            frames = frame_extraction(video_file_path)\n",
    "\n",
    "            if len(frames) == sequence_length:\n",
    "                features.append(frames)\n",
    "                labels.append(class_index)\n",
    "                video_file_paths.append(video_file_path)\n",
    "\n",
    "\n",
    "    features = np.asarray(features)\n",
    "    labels =np.array(labels)\n",
    "\n",
    "    return features, labels, video_file_paths\n",
    "                "
   ]
  },
  {
   "cell_type": "code",
   "execution_count": null,
   "metadata": {},
   "outputs": [],
   "source": [
    "def Visualize_Dataset_Distribution(self, Data_Path):\n",
    "        Length_Of_All_Classes = {}\n",
    "        Class_Names = [i for i in os.listdir(Data_Path)]\n",
    "        Count = 0\n",
    "\n",
    "        for Classes in os.listdir(Data_Path):\n",
    "            Class_Path = os.path.join(Data_Path, Classes)\n",
    "            Length_Of_All_Classes[Class_Names[Count]] = len(os.listdir(Class_Path))\n",
    "            Count += 1\n",
    "\n",
    "        Length = [length for length in Length_Of_All_Classes.values()]\n",
    "        Names = [names for names in Length_Of_All_Classes.keys()]\n",
    "\n",
    "        plt.figure(figsize=(10, 5))\n",
    "        plt.bar(Names, Length, width=0.4, color='skyblue')\n",
    "        plt.ylabel('Number of Samples')\n",
    "        plt.title('Dataset Distribution - Bar Chart')\n",
    "        plt.xticks(rotation=45)\n",
    "        plt.tight_layout()\n",
    "        plt.show()\n",
    "\n",
    "        plt.figure(figsize=(8, 8))\n",
    "        plt.pie(Length, labels=Names, autopct='%1.1f%%', startangle=140, colors=plt.cm.Paired.colors)\n",
    "        plt.title('Dataset Distribution - Pie Chart')\n",
    "        plt.axis('equal')\n",
    "        plt.show()"
   ]
  },
  {
   "cell_type": "code",
   "execution_count": 71,
   "metadata": {},
   "outputs": [
    {
     "name": "stdout",
     "output_type": "stream",
     "text": [
      "Extracting data of Class:  BaseballPitch\n",
      "Extracting data of Class:  Basketball\n",
      "Extracting data of Class:  Billiards\n",
      "Extracting data of Class:  GolfSwing\n",
      "Extracting data of Class:  JavelinThrow\n",
      "Extracting data of Class:  TennisSwing\n",
      "Extracting data of Class:  ThrowDiscus\n",
      "Extracting data of Class:  VolleyballSpiking\n"
     ]
    }
   ],
   "source": [
    "# by running this you can create you own specific categories dataset\n",
    "\n",
    "features, labels, video_file_paths = create_dataset()"
   ]
  },
  {
   "cell_type": "code",
   "execution_count": 74,
   "metadata": {},
   "outputs": [],
   "source": [
    "# converting labels into on-hot encoding vectors\n",
    "\n",
    "one_hot_encoding_labels = to_categorical(labels)"
   ]
  },
  {
   "cell_type": "markdown",
   "metadata": {},
   "source": [
    "# data Spliting"
   ]
  },
  {
   "cell_type": "code",
   "execution_count": 76,
   "metadata": {},
   "outputs": [],
   "source": [
    "features_train, features_test, labels_train, labels_test = train_test_split(features, one_hot_encoding_labels, \n",
    "                                                                            test_size = 0.20, shuffle= True,\n",
    "                                                                            random_state = 42)"
   ]
  },
  {
   "cell_type": "code",
   "execution_count": 112,
   "metadata": {},
   "outputs": [],
   "source": [
    "from keras.layers import TimeDistributed, Conv2D, MaxPooling2D, Dropout, Flatten, LSTM, Dense, Input"
   ]
  },
  {
   "cell_type": "code",
   "execution_count": 124,
   "metadata": {},
   "outputs": [],
   "source": [
    "def create_LRCN_model(sequence_length, img_height, img_width, num_classes):\n",
    "    model = Sequential()\n",
    "    model.add(Input(shape=(sequence_length, img_height, img_width, 3)))  # Define the input shape here\n",
    "    model.add(TimeDistributed(Conv2D(16, (3, 3), padding=\"same\", activation=\"relu\")))\n",
    "    model.add(TimeDistributed(MaxPooling2D((2, 2))))\n",
    "    model.add(TimeDistributed(Dropout(0.25)))\n",
    "    \n",
    "    model.add(TimeDistributed(Conv2D(32, (3,3), padding= \"same\", activation= \"relu\")))\n",
    "    model.add(TimeDistributed(MaxPooling2D((2,2))))\n",
    "    model.add(TimeDistributed(Dropout(0.25)))\n",
    "\n",
    "\n",
    "    model.add(TimeDistributed(Conv2D(64, (3,3), padding= \"same\", activation= \"relu\")))\n",
    "    model.add(TimeDistributed(MaxPooling2D((2,2))))\n",
    "    model.add(TimeDistributed(Dropout(0.25)))\n",
    "\n",
    "\n",
    "    model.add(TimeDistributed(Conv2D(64, (3,3), padding= \"same\", activation= \"relu\")))\n",
    "    model.add(TimeDistributed(MaxPooling2D((2,2))))\n",
    "\n",
    "    \n",
    "    model.add(TimeDistributed(Flatten()))\n",
    "    model.add(LSTM(32))  # Ensure LSTM is defined\n",
    "    model.add(Dense(num_classes, activation='softmax'))  # Use num_classes for output layer\n",
    "\n",
    "    return model"
   ]
  },
  {
   "cell_type": "code",
   "execution_count": 126,
   "metadata": {},
   "outputs": [
    {
     "name": "stdout",
     "output_type": "stream",
     "text": [
      "Model Created Successfully\n"
     ]
    }
   ],
   "source": [
    "sequence_length = 20  # Example value\n",
    "img_height = 64       # Example value\n",
    "img_width = 64        # Example value\n",
    "num_classes = 8       # Example number of classes\n",
    "LRCN_model = create_LRCN_model(sequence_length, img_height, img_width, num_classes)\n",
    "print(\"Model Created Successfully\")"
   ]
  },
  {
   "cell_type": "code",
   "execution_count": 128,
   "metadata": {},
   "outputs": [
    {
     "name": "stdout",
     "output_type": "stream",
     "text": [
      "Epoch 1/50\n",
      "\u001b[1m45/45\u001b[0m \u001b[32m━━━━━━━━━━━━━━━━━━━━\u001b[0m\u001b[37m\u001b[0m \u001b[1m57s\u001b[0m 852ms/step - accuracy: 0.1978 - loss: 2.0785 - val_accuracy: 0.3371 - val_loss: 1.7714\n",
      "Epoch 2/50\n",
      "\u001b[1m45/45\u001b[0m \u001b[32m━━━━━━━━━━━━━━━━━━━━\u001b[0m\u001b[37m\u001b[0m \u001b[1m35s\u001b[0m 782ms/step - accuracy: 0.4395 - loss: 1.5592 - val_accuracy: 0.4494 - val_loss: 1.4649\n",
      "Epoch 3/50\n",
      "\u001b[1m45/45\u001b[0m \u001b[32m━━━━━━━━━━━━━━━━━━━━\u001b[0m\u001b[37m\u001b[0m \u001b[1m35s\u001b[0m 786ms/step - accuracy: 0.4786 - loss: 1.3609 - val_accuracy: 0.5337 - val_loss: 1.2525\n",
      "Epoch 4/50\n",
      "\u001b[1m45/45\u001b[0m \u001b[32m━━━━━━━━━━━━━━━━━━━━\u001b[0m\u001b[37m\u001b[0m \u001b[1m36s\u001b[0m 787ms/step - accuracy: 0.5557 - loss: 1.1889 - val_accuracy: 0.5562 - val_loss: 1.2293\n",
      "Epoch 5/50\n",
      "\u001b[1m45/45\u001b[0m \u001b[32m━━━━━━━━━━━━━━━━━━━━\u001b[0m\u001b[37m\u001b[0m \u001b[1m36s\u001b[0m 798ms/step - accuracy: 0.5570 - loss: 1.1901 - val_accuracy: 0.5899 - val_loss: 1.2495\n",
      "Epoch 6/50\n",
      "\u001b[1m45/45\u001b[0m \u001b[32m━━━━━━━━━━━━━━━━━━━━\u001b[0m\u001b[37m\u001b[0m \u001b[1m36s\u001b[0m 790ms/step - accuracy: 0.5856 - loss: 1.0965 - val_accuracy: 0.5730 - val_loss: 1.2041\n",
      "Epoch 7/50\n",
      "\u001b[1m45/45\u001b[0m \u001b[32m━━━━━━━━━━━━━━━━━━━━\u001b[0m\u001b[37m\u001b[0m \u001b[1m36s\u001b[0m 790ms/step - accuracy: 0.6756 - loss: 0.9315 - val_accuracy: 0.6348 - val_loss: 1.0464\n",
      "Epoch 8/50\n",
      "\u001b[1m45/45\u001b[0m \u001b[32m━━━━━━━━━━━━━━━━━━━━\u001b[0m\u001b[37m\u001b[0m \u001b[1m36s\u001b[0m 797ms/step - accuracy: 0.7242 - loss: 0.8390 - val_accuracy: 0.5000 - val_loss: 1.1964\n",
      "Epoch 9/50\n",
      "\u001b[1m45/45\u001b[0m \u001b[32m━━━━━━━━━━━━━━━━━━━━\u001b[0m\u001b[37m\u001b[0m \u001b[1m36s\u001b[0m 792ms/step - accuracy: 0.6573 - loss: 0.9643 - val_accuracy: 0.6404 - val_loss: 0.9511\n",
      "Epoch 10/50\n",
      "\u001b[1m45/45\u001b[0m \u001b[32m━━━━━━━━━━━━━━━━━━━━\u001b[0m\u001b[37m\u001b[0m \u001b[1m35s\u001b[0m 787ms/step - accuracy: 0.7664 - loss: 0.7047 - val_accuracy: 0.6685 - val_loss: 0.9299\n",
      "Epoch 11/50\n",
      "\u001b[1m45/45\u001b[0m \u001b[32m━━━━━━━━━━━━━━━━━━━━\u001b[0m\u001b[37m\u001b[0m \u001b[1m35s\u001b[0m 775ms/step - accuracy: 0.7656 - loss: 0.6876 - val_accuracy: 0.7360 - val_loss: 0.8319\n",
      "Epoch 12/50\n",
      "\u001b[1m45/45\u001b[0m \u001b[32m━━━━━━━━━━━━━━━━━━━━\u001b[0m\u001b[37m\u001b[0m \u001b[1m36s\u001b[0m 792ms/step - accuracy: 0.8052 - loss: 0.5866 - val_accuracy: 0.6798 - val_loss: 0.8404\n",
      "Epoch 13/50\n",
      "\u001b[1m45/45\u001b[0m \u001b[32m━━━━━━━━━━━━━━━━━━━━\u001b[0m\u001b[37m\u001b[0m \u001b[1m36s\u001b[0m 789ms/step - accuracy: 0.8419 - loss: 0.5294 - val_accuracy: 0.7022 - val_loss: 0.7393\n",
      "Epoch 14/50\n",
      "\u001b[1m45/45\u001b[0m \u001b[32m━━━━━━━━━━━━━━━━━━━━\u001b[0m\u001b[37m\u001b[0m \u001b[1m36s\u001b[0m 811ms/step - accuracy: 0.8583 - loss: 0.4664 - val_accuracy: 0.5674 - val_loss: 1.2690\n",
      "Epoch 15/50\n",
      "\u001b[1m45/45\u001b[0m \u001b[32m━━━━━━━━━━━━━━━━━━━━\u001b[0m\u001b[37m\u001b[0m \u001b[1m36s\u001b[0m 802ms/step - accuracy: 0.7197 - loss: 0.7294 - val_accuracy: 0.7865 - val_loss: 0.5901\n",
      "Epoch 16/50\n",
      "\u001b[1m45/45\u001b[0m \u001b[32m━━━━━━━━━━━━━━━━━━━━\u001b[0m\u001b[37m\u001b[0m \u001b[1m35s\u001b[0m 785ms/step - accuracy: 0.8496 - loss: 0.4356 - val_accuracy: 0.8258 - val_loss: 0.5563\n",
      "Epoch 17/50\n",
      "\u001b[1m45/45\u001b[0m \u001b[32m━━━━━━━━━━━━━━━━━━━━\u001b[0m\u001b[37m\u001b[0m \u001b[1m36s\u001b[0m 797ms/step - accuracy: 0.9173 - loss: 0.3373 - val_accuracy: 0.7865 - val_loss: 0.5923\n",
      "Epoch 18/50\n",
      "\u001b[1m45/45\u001b[0m \u001b[32m━━━━━━━━━━━━━━━━━━━━\u001b[0m\u001b[37m\u001b[0m \u001b[1m36s\u001b[0m 790ms/step - accuracy: 0.9271 - loss: 0.2942 - val_accuracy: 0.8483 - val_loss: 0.4462\n",
      "Epoch 19/50\n",
      "\u001b[1m45/45\u001b[0m \u001b[32m━━━━━━━━━━━━━━━━━━━━\u001b[0m\u001b[37m\u001b[0m \u001b[1m38s\u001b[0m 836ms/step - accuracy: 0.9531 - loss: 0.2377 - val_accuracy: 0.8989 - val_loss: 0.4103\n",
      "Epoch 20/50\n",
      "\u001b[1m45/45\u001b[0m \u001b[32m━━━━━━━━━━━━━━━━━━━━\u001b[0m\u001b[37m\u001b[0m \u001b[1m36s\u001b[0m 806ms/step - accuracy: 0.9590 - loss: 0.1981 - val_accuracy: 0.8652 - val_loss: 0.4684\n",
      "Epoch 21/50\n",
      "\u001b[1m45/45\u001b[0m \u001b[32m━━━━━━━━━━━━━━━━━━━━\u001b[0m\u001b[37m\u001b[0m \u001b[1m36s\u001b[0m 800ms/step - accuracy: 0.9419 - loss: 0.2214 - val_accuracy: 0.8989 - val_loss: 0.4254\n",
      "Epoch 22/50\n",
      "\u001b[1m45/45\u001b[0m \u001b[32m━━━━━━━━━━━━━━━━━━━━\u001b[0m\u001b[37m\u001b[0m \u001b[1m36s\u001b[0m 799ms/step - accuracy: 0.9631 - loss: 0.2029 - val_accuracy: 0.8876 - val_loss: 0.3782\n",
      "Epoch 23/50\n",
      "\u001b[1m45/45\u001b[0m \u001b[32m━━━━━━━━━━━━━━━━━━━━\u001b[0m\u001b[37m\u001b[0m \u001b[1m36s\u001b[0m 805ms/step - accuracy: 0.9786 - loss: 0.1319 - val_accuracy: 0.8989 - val_loss: 0.3593\n",
      "Epoch 24/50\n",
      "\u001b[1m45/45\u001b[0m \u001b[32m━━━━━━━━━━━━━━━━━━━━\u001b[0m\u001b[37m\u001b[0m \u001b[1m36s\u001b[0m 801ms/step - accuracy: 0.9768 - loss: 0.1140 - val_accuracy: 0.9045 - val_loss: 0.3732\n",
      "Epoch 25/50\n",
      "\u001b[1m45/45\u001b[0m \u001b[32m━━━━━━━━━━━━━━━━━━━━\u001b[0m\u001b[37m\u001b[0m \u001b[1m36s\u001b[0m 798ms/step - accuracy: 0.9815 - loss: 0.0973 - val_accuracy: 0.8989 - val_loss: 0.3495\n",
      "Epoch 26/50\n",
      "\u001b[1m45/45\u001b[0m \u001b[32m━━━━━━━━━━━━━━━━━━━━\u001b[0m\u001b[37m\u001b[0m \u001b[1m36s\u001b[0m 801ms/step - accuracy: 0.9802 - loss: 0.0961 - val_accuracy: 0.9157 - val_loss: 0.3704\n",
      "Epoch 27/50\n",
      "\u001b[1m45/45\u001b[0m \u001b[32m━━━━━━━━━━━━━━━━━━━━\u001b[0m\u001b[37m\u001b[0m \u001b[1m35s\u001b[0m 784ms/step - accuracy: 0.9875 - loss: 0.0791 - val_accuracy: 0.9326 - val_loss: 0.3378\n",
      "Epoch 28/50\n",
      "\u001b[1m45/45\u001b[0m \u001b[32m━━━━━━━━━━━━━━━━━━━━\u001b[0m\u001b[37m\u001b[0m \u001b[1m35s\u001b[0m 779ms/step - accuracy: 0.9850 - loss: 0.0729 - val_accuracy: 0.9045 - val_loss: 0.4209\n",
      "Epoch 29/50\n",
      "\u001b[1m45/45\u001b[0m \u001b[32m━━━━━━━━━━━━━━━━━━━━\u001b[0m\u001b[37m\u001b[0m \u001b[1m35s\u001b[0m 778ms/step - accuracy: 0.9937 - loss: 0.0737 - val_accuracy: 0.9157 - val_loss: 0.3307\n",
      "Epoch 30/50\n",
      "\u001b[1m45/45\u001b[0m \u001b[32m━━━━━━━━━━━━━━━━━━━━\u001b[0m\u001b[37m\u001b[0m \u001b[1m35s\u001b[0m 777ms/step - accuracy: 0.9918 - loss: 0.0590 - val_accuracy: 0.9101 - val_loss: 0.3502\n",
      "Epoch 31/50\n",
      "\u001b[1m45/45\u001b[0m \u001b[32m━━━━━━━━━━━━━━━━━━━━\u001b[0m\u001b[37m\u001b[0m \u001b[1m35s\u001b[0m 782ms/step - accuracy: 0.9886 - loss: 0.0623 - val_accuracy: 0.9157 - val_loss: 0.3737\n",
      "Epoch 32/50\n",
      "\u001b[1m45/45\u001b[0m \u001b[32m━━━━━━━━━━━━━━━━━━━━\u001b[0m\u001b[37m\u001b[0m \u001b[1m35s\u001b[0m 785ms/step - accuracy: 0.9937 - loss: 0.0443 - val_accuracy: 0.9326 - val_loss: 0.3042\n",
      "Epoch 33/50\n",
      "\u001b[1m45/45\u001b[0m \u001b[32m━━━━━━━━━━━━━━━━━━━━\u001b[0m\u001b[37m\u001b[0m \u001b[1m35s\u001b[0m 781ms/step - accuracy: 0.9945 - loss: 0.0410 - val_accuracy: 0.8989 - val_loss: 0.4090\n",
      "Epoch 34/50\n",
      "\u001b[1m45/45\u001b[0m \u001b[32m━━━━━━━━━━━━━━━━━━━━\u001b[0m\u001b[37m\u001b[0m \u001b[1m35s\u001b[0m 784ms/step - accuracy: 1.0000 - loss: 0.0330 - val_accuracy: 0.9157 - val_loss: 0.3542\n",
      "Epoch 35/50\n",
      "\u001b[1m45/45\u001b[0m \u001b[32m━━━━━━━━━━━━━━━━━━━━\u001b[0m\u001b[37m\u001b[0m \u001b[1m35s\u001b[0m 782ms/step - accuracy: 1.0000 - loss: 0.0265 - val_accuracy: 0.9326 - val_loss: 0.3354\n",
      "Epoch 36/50\n",
      "\u001b[1m45/45\u001b[0m \u001b[32m━━━━━━━━━━━━━━━━━━━━\u001b[0m\u001b[37m\u001b[0m \u001b[1m35s\u001b[0m 777ms/step - accuracy: 1.0000 - loss: 0.0248 - val_accuracy: 0.9270 - val_loss: 0.3925\n",
      "Epoch 37/50\n",
      "\u001b[1m45/45\u001b[0m \u001b[32m━━━━━━━━━━━━━━━━━━━━\u001b[0m\u001b[37m\u001b[0m \u001b[1m35s\u001b[0m 785ms/step - accuracy: 0.9984 - loss: 0.0261 - val_accuracy: 0.8764 - val_loss: 0.4434\n",
      "Epoch 38/50\n",
      "\u001b[1m45/45\u001b[0m \u001b[32m━━━━━━━━━━━━━━━━━━━━\u001b[0m\u001b[37m\u001b[0m \u001b[1m35s\u001b[0m 785ms/step - accuracy: 0.9857 - loss: 0.0689 - val_accuracy: 0.8764 - val_loss: 0.4498\n",
      "Epoch 39/50\n",
      "\u001b[1m45/45\u001b[0m \u001b[32m━━━━━━━━━━━━━━━━━━━━\u001b[0m\u001b[37m\u001b[0m \u001b[1m36s\u001b[0m 809ms/step - accuracy: 0.9639 - loss: 0.1330 - val_accuracy: 0.8258 - val_loss: 0.7792\n",
      "Epoch 40/50\n",
      "\u001b[1m45/45\u001b[0m \u001b[32m━━━━━━━━━━━━━━━━━━━━\u001b[0m\u001b[37m\u001b[0m \u001b[1m36s\u001b[0m 804ms/step - accuracy: 0.8327 - loss: 0.5351 - val_accuracy: 0.8034 - val_loss: 0.6696\n",
      "Epoch 41/50\n",
      "\u001b[1m45/45\u001b[0m \u001b[32m━━━━━━━━━━━━━━━━━━━━\u001b[0m\u001b[37m\u001b[0m \u001b[1m37s\u001b[0m 820ms/step - accuracy: 0.8967 - loss: 0.3257 - val_accuracy: 0.6966 - val_loss: 1.0228\n",
      "Epoch 42/50\n",
      "\u001b[1m45/45\u001b[0m \u001b[32m━━━━━━━━━━━━━━━━━━━━\u001b[0m\u001b[37m\u001b[0m \u001b[1m37s\u001b[0m 830ms/step - accuracy: 0.7318 - loss: 0.8922 - val_accuracy: 0.7360 - val_loss: 0.8060\n",
      "Epoch 43/50\n",
      "\u001b[1m45/45\u001b[0m \u001b[32m━━━━━━━━━━━━━━━━━━━━\u001b[0m\u001b[37m\u001b[0m \u001b[1m36s\u001b[0m 809ms/step - accuracy: 0.8722 - loss: 0.4172 - val_accuracy: 0.8708 - val_loss: 0.4834\n",
      "Epoch 44/50\n",
      "\u001b[1m45/45\u001b[0m \u001b[32m━━━━━━━━━━━━━━━━━━━━\u001b[0m\u001b[37m\u001b[0m \u001b[1m36s\u001b[0m 803ms/step - accuracy: 0.9059 - loss: 0.2929 - val_accuracy: 0.8652 - val_loss: 0.4639\n",
      "Epoch 45/50\n",
      "\u001b[1m45/45\u001b[0m \u001b[32m━━━━━━━━━━━━━━━━━━━━\u001b[0m\u001b[37m\u001b[0m \u001b[1m36s\u001b[0m 797ms/step - accuracy: 0.9705 - loss: 0.1364 - val_accuracy: 0.9101 - val_loss: 0.3835\n",
      "Epoch 46/50\n",
      "\u001b[1m45/45\u001b[0m \u001b[32m━━━━━━━━━━━━━━━━━━━━\u001b[0m\u001b[37m\u001b[0m \u001b[1m37s\u001b[0m 810ms/step - accuracy: 0.9762 - loss: 0.1255 - val_accuracy: 0.8989 - val_loss: 0.4075\n",
      "Epoch 47/50\n",
      "\u001b[1m45/45\u001b[0m \u001b[32m━━━━━━━━━━━━━━━━━━━━\u001b[0m\u001b[37m\u001b[0m \u001b[1m37s\u001b[0m 811ms/step - accuracy: 0.9713 - loss: 0.1304 - val_accuracy: 0.9101 - val_loss: 0.3988\n"
     ]
    }
   ],
   "source": [
    "early_stopping_callback = EarlyStopping(monitor = 'val_loss', patience = 15, mode = 'min', restore_best_weights = True)\n",
    "\n",
    "LRCN_model.compile(loss = \"categorical_crossentropy\", optimizer = \"Adam\", metrics =[\"accuracy\"])\n",
    "\n",
    "LRCN_model_training_history = LRCN_model.fit(x = features_train, y=labels_train, epochs = 50, batch_size = 16, shuffle = True,\n",
    "                                                     validation_split = 0.2,\n",
    "                                                     callbacks= [early_stopping_callback])"
   ]
  },
  {
   "cell_type": "code",
   "execution_count": 130,
   "metadata": {},
   "outputs": [
    {
     "name": "stdout",
     "output_type": "stream",
     "text": [
      "\u001b[1m7/7\u001b[0m \u001b[32m━━━━━━━━━━━━━━━━━━━━\u001b[0m\u001b[37m\u001b[0m \u001b[1m1s\u001b[0m 125ms/step - accuracy: 0.8753 - loss: 0.4216\n"
     ]
    }
   ],
   "source": [
    "LRCN_model_evaluation_history = LRCN_model.evaluate(features_test, labels_test)"
   ]
  },
  {
   "cell_type": "code",
   "execution_count": 134,
   "metadata": {},
   "outputs": [],
   "source": [
    "model_file_name = f'LRCN_model.keras'\n",
    "convlstm_model.save(model_file_name)"
   ]
  },
  {
   "cell_type": "code",
   "execution_count": 140,
   "metadata": {},
   "outputs": [],
   "source": [
    "def plot_metric(LRCN_model_evaluation_history, metric_name_1, metric_name_2, plot_name):\n",
    "\n",
    "    metric_value_1 = LRCN_model_evaluation_history.history[metric_name_1]\n",
    "    metric_value_2 = LRCN_model_evaluation_history.history[metric_name_2]\n",
    "\n",
    "    epochs = range(len(metric_value_1))\n",
    "\n",
    "    plt.plot(epochs, metric_value_1, 'blue', label = metric_name_1)\n",
    "    plt.plot(epochs, metric_value_2, 'red', label = metric_name_2)\n",
    "\n",
    "    plt.title(str(plot_name))\n",
    "\n",
    "    plt.legend()"
   ]
  },
  {
   "cell_type": "code",
   "execution_count": 142,
   "metadata": {},
   "outputs": [
    {
     "data": {
      "image/png": "[encoded data removed]",
      "text/plain": [
       "<Figure size 640x480 with 1 Axes>"
      ]
     },
     "metadata": {},
     "output_type": "display_data"
    }
   ],
   "source": [
    "plot_metric(LRCN_model_training_history, 'loss', 'val_loss', 'Total Loss vs Total Validation Loss')"
   ]
  },
  {
   "cell_type": "markdown",
   "metadata": {},
   "source": [
    "# Model Accuracy "
   ]
  },
  {
   "cell_type": "code",
   "execution_count": 146,
   "metadata": {},
   "outputs": [],
   "source": [
    "\n",
    "def plot_metric(training_history, metric_name_1, metric_name_2, plot_name):\n",
    "    metric_value_1 = training_history.history[metric_name_1]\n",
    "    metric_value_2 = training_history.history[metric_name_2]\n",
    "\n",
    "    epochs = range(len(metric_value_1))\n",
    "\n",
    "    plt.plot(epochs, metric_value_1, label=metric_name_1)\n",
    "    plt.plot(epochs, metric_value_2, label=metric_name_2)\n",
    "    plt.title(plot_name)\n",
    "    plt.xlabel('Epochs')\n",
    "    plt.ylabel('Value')\n",
    "    plt.legend()\n",
    "    plt.show()"
   ]
  },
  {
   "cell_type": "code",
   "execution_count": 148,
   "metadata": {},
   "outputs": [
    {
     "data": {
      "image/png": "[encoded data removed]",
      "text/plain": [
       "<Figure size 640x480 with 1 Axes>"
      ]
     },
     "metadata": {},
     "output_type": "display_data"
    }
   ],
   "source": [
    "plot_metric(LRCN_model_training_history, 'accuracy', 'val_accuracy', 'Total Accuracy vs Total Validation Accuracy')\n"
   ]
  },
  {
   "cell_type": "code",
   "execution_count": 26,
   "metadata": {},
   "outputs": [
    {
     "name": "stderr",
     "output_type": "stream",
     "text": [
      "WARNING:absl:Compiled the loaded model, but the compiled metrics have yet to be built. `model.compile_metrics` will be empty until you train or evaluate the model.\n"
     ]
    }
   ],
   "source": [
    "import tensorflow as tf\n",
    "from tensorflow.keras.models import load_model\n",
    "# Load the model\n",
    "model = load_model('model.h5')\n"
   ]
  },
  {
   "cell_type": "code",
   "execution_count": 27,
   "metadata": {},
   "outputs": [],
   "source": [
    "import cv2\n",
    "import numpy as np\n",
    "import random\n",
    "\n",
    "# Function to capture a random frame from the video and make a prediction\n",
    "def predict_random_frame(video_path, model, img_size=(64, 64), num_frames=20):\n",
    "    class_names = ['BaseballPitch', 'Basketball', 'Billiards', 'GolfSwing', 'JavelinThrow', 'TennisSwing', 'ThrowDiscus', 'VolleyballSpiking']\n",
    "    \n",
    "    # Capture the video\n",
    "    cap = cv2.VideoCapture(video_path)\n",
    "    \n",
    "    # Get the total number of frames in the video\n",
    "    total_frames = int(cap.get(cv2.CAP_PROP_FRAME_COUNT))\n",
    "    \n",
    "    # Randomly select a frame index\n",
    "    frame_to_capture = random.randint(0, total_frames - 1)\n",
    "    \n",
    "    # Set the video to the chosen random frame\n",
    "    cap.set(cv2.CAP_PROP_POS_FRAMES, frame_to_capture)\n",
    "    \n",
    "    ret, frame = cap.read()\n",
    "    if not ret:\n",
    "        print(\"Error: Could not read the frame.\")\n",
    "        return None\n",
    "    \n",
    "    # Resize and normalize the selected frame\n",
    "    frame_resized = cv2.resize(frame, img_size)\n",
    "    frame_normalized = frame_resized / 255.0  # Normalize the frame to [0,1]\n",
    "    \n",
    "    # Repeat the frame to create a sequence of exactly 20 frames\n",
    "    frame_sequence = np.repeat(np.expand_dims(frame_normalized, axis=0), num_frames, axis=0)\n",
    "    \n",
    "    # Preprocess frames for the model\n",
    "    frame_sequence = np.expand_dims(frame_sequence, axis=0)  # Add batch dimension to create shape (1, 20, 64, 64, 3)\n",
    "\n",
    "    # Predict the class\n",
    "    predictions = model.predict(frame_sequence)\n",
    "    predicted_class_index = np.argmax(predictions)\n",
    "    \n",
    "    # Get the class name\n",
    "    predicted_class_name = class_names[predicted_class_index]\n",
    "    \n",
    "    # Release the video capture object\n",
    "    cap.release()\n",
    "    \n",
    "    return predicted_class_name\n",
    "\n",
    "\n",
    "# Function to play the video and display the predicted class name on top\n",
    "def play_video_with_prediction(video_path, predicted_class_name):\n",
    "    # Capture the video\n",
    "    cap = cv2.VideoCapture(video_path)\n",
    "    \n",
    "    # Get the FPS to control playback speed\n",
    "    fps = cap.get(cv2.CAP_PROP_FPS)\n",
    "    \n",
    "    while True:\n",
    "        ret, frame = cap.read()\n",
    "        if not ret:\n",
    "            break\n",
    "        \n",
    "        # Add text to the frame (the predicted class)\n",
    "        font = cv2.FONT_HERSHEY_SIMPLEX\n",
    "        text = f'{predicted_class_name}'\n",
    "        font_scale = 1\n",
    "        color = (255, 0, 0)  # Red color\n",
    "        thickness = 2\n",
    "        position = (50, 50)  # Position of the text on the video frame\n",
    "        \n",
    "        # Add the predicted class name to the frame\n",
    "        frame = cv2.putText(frame, text, position, font, font_scale, color, thickness, cv2.LINE_AA)\n",
    "        \n",
    "        # Display the frame\n",
    "        cv2.imshow('Video with Prediction', frame)\n",
    "        \n",
    "        # Wait for the appropriate time between frames based on FPS\n",
    "        if cv2.waitKey(int(1000 / fps)) & 0xFF == ord('q'):\n",
    "            break\n",
    "    \n",
    "    cap.release()\n",
    "    cv2.destroyAllWindows()"
   ]
  },
  {
   "cell_type": "code",
   "execution_count": 29,
   "metadata": {},
   "outputs": [
    {
     "name": "stdout",
     "output_type": "stream",
     "text": [
      "\u001b[1m1/1\u001b[0m \u001b[32m━━━━━━━━━━━━━━━━━━━━\u001b[0m\u001b[37m\u001b[0m \u001b[1m0s\u001b[0m 315ms/step\n"
     ]
    }
   ],
   "source": [
    "video_path = 'data_dir/1.avi'\n",
    "predicted_class = predict_random_frame(video_path, model)\n",
    "play_video_with_prediction(video_path, predicted_class)\n"
   ]
  },
  {
   "cell_type": "code",
   "execution_count": null,
   "metadata": {},
   "outputs": [],
   "source": []
  }
 ],
 "metadata": {
  "accelerator": "GPU",
  "colab": {
   "gpuType": "T4",
   "provenance": []
  },
  "kernelspec": {
   "display_name": "Python 3 (ipykernel)",
   "language": "python",
   "name": "python3"
  },
  "language_info": {
   "codemirror_mode": {
    "name": "ipython",
    "version": 3
   },
   "file_extension": ".py",
   "mimetype": "text/x-python",
   "name": "python",
   "nbconvert_exporter": "python",
   "pygments_lexer": "ipython3",
   "version": "3.12.5"
  }
 },
 "nbformat": 4,
 "nbformat_minor": 4
}
