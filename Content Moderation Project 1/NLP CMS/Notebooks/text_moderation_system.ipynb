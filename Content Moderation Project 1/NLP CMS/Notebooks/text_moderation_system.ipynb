{
 "cells": [
  {
   "cell_type": "markdown",
   "id": "yzSDjlvkF-US",
   "metadata": {
    "id": "yzSDjlvkF-US"
   },
   "source": [
    "# Content Moderation System | Text Moderation | Transformer BERT | ITsolera PVT | Project 1 | Classifying Text as Positve (0) or Negative (1)"
   ]
  },
  {
   "cell_type": "code",
   "execution_count": null,
   "id": "345e114b",
   "metadata": {
    "colab": {
     "base_uri": "https://localhost:8080/",
     "height": 380
    },
    "id": "345e114b",
    "outputId": "c4173b7e-f0d8-4b76-8f14-5282d76cf6a4"
   },
   "outputs": [
    {
     "data": {
      "application/vnd.google.colaboratory.intrinsic+json": {
       "summary": "{\n  \"name\": \"data\",\n  \"rows\": 70000,\n  \"fields\": [\n    {\n      \"column\": \"text\",\n      \"properties\": {\n        \"dtype\": \"string\",\n        \"num_unique_values\": 70000,\n        \"samples\": [\n          \"Non adequate to customers systemThe dvd is not adequate to the customer's reproduction system. No previous information was available about this.A real pitty\",\n          \"Good start... what is next?The author weaves together(almost perfectly)theory and practice in an effort to better understand sociolinguistic theories and background. The discourse analysis helps the reader understand what he truly means by cognition, and will allow classroom teachers to reflect on their own lessons and interaction in the foreign language classroom. Mantero's conclusions regarding literature and reader response theory are (arguably) cutting-edge, but more research is needed to support his findings. Hopefully, he will follow-up this study with another similar investigation.\",\n          \"EngagingA very engaging look from the perspective of the rifleman/mortar man who fought many of the battles in the pacific theater. Very interesting read to understand the nuances of war and the challenges beyond the enemy that made these battles so horrific. No cheer leading for the American empire (past or present) here. Just an honest assessment of one mans perspective on the battles that most history classes dont cover in detail. Enjoyed this book.\"\n        ],\n        \"semantic_type\": \"\",\n        \"description\": \"\"\n      }\n    },\n    {\n      \"column\": \"annotation\",\n      \"properties\": {\n        \"dtype\": \"number\",\n        \"std\": 0,\n        \"min\": 0,\n        \"max\": 1,\n        \"num_unique_values\": 2,\n        \"samples\": [\n          1,\n          0\n        ],\n        \"semantic_type\": \"\",\n        \"description\": \"\"\n      }\n    },\n    {\n      \"column\": \"input_ids\",\n      \"properties\": {\n        \"dtype\": \"string\",\n        \"num_unique_values\": 69678,\n        \"samples\": [\n          \"[101, 9625, 2039, 5051, 27469, 2040, 2031, 1037, 2524, 102]\",\n          \"[101, 14747, 2066, 2009, 1005, 1055, 2908, 2919, 2072, 102]\"\n        ],\n        \"semantic_type\": \"\",\n        \"description\": \"\"\n      }\n    },\n    {\n      \"column\": \"attention_mask\",\n      \"properties\": {\n        \"dtype\": \"category\",\n        \"num_unique_values\": 3,\n        \"samples\": [\n          \"[1, 1, 1, 1, 1, 1, 1, 1, 1, 1]\",\n          \"[1, 1, 1, 1, 1, 1, 1, 1, 1, 0]\"\n        ],\n        \"semantic_type\": \"\",\n        \"description\": \"\"\n      }\n    }\n  ]\n}",
       "type": "dataframe",
       "variable_name": "data"
      },
      "text/html": [
       "\n",
       "  <div id=\"df-f49f8861-eb1e-4647-9aa5-adb35eb18c87\" class=\"colab-df-container\">\n",
       "    <div>\n",
       "<style scoped>\n",
       "    .dataframe tbody tr th:only-of-type {\n",
       "        vertical-align: middle;\n",
       "    }\n",
       "\n",
       "    .dataframe tbody tr th {\n",
       "        vertical-align: top;\n",
       "    }\n",
       "\n",
       "    .dataframe thead th {\n",
       "        text-align: right;\n",
       "    }\n",
       "</style>\n",
       "<table border=\"1\" class=\"dataframe\">\n",
       "  <thead>\n",
       "    <tr style=\"text-align: right;\">\n",
       "      <th></th>\n",
       "      <th>text</th>\n",
       "      <th>annotation</th>\n",
       "      <th>input_ids</th>\n",
       "      <th>attention_mask</th>\n",
       "    </tr>\n",
       "  </thead>\n",
       "  <tbody>\n",
       "    <tr>\n",
       "      <th>0</th>\n",
       "      <td>One of the best game music soundtracks - for a...</td>\n",
       "      <td>0</td>\n",
       "      <td>[101, 2028, 1997, 1996, 2190, 2208, 2189, 2424...</td>\n",
       "      <td>[1, 1, 1, 1, 1, 1, 1, 1, 1, 1]</td>\n",
       "    </tr>\n",
       "    <tr>\n",
       "      <th>1</th>\n",
       "      <td>Batteries died within a year ...I bought this ...</td>\n",
       "      <td>1</td>\n",
       "      <td>[101, 10274, 2351, 2306, 1037, 2095, 1012, 101...</td>\n",
       "      <td>[1, 1, 1, 1, 1, 1, 1, 1, 1, 1]</td>\n",
       "    </tr>\n",
       "    <tr>\n",
       "      <th>2</th>\n",
       "      <td>works fine, but Maha Energy is betterCheck out...</td>\n",
       "      <td>0</td>\n",
       "      <td>[101, 2573, 2986, 1010, 2021, 24404, 2943, 200...</td>\n",
       "      <td>[1, 1, 1, 1, 1, 1, 1, 1, 1, 1]</td>\n",
       "    </tr>\n",
       "    <tr>\n",
       "      <th>3</th>\n",
       "      <td>Great for the non-audiophileReviewed quite a b...</td>\n",
       "      <td>0</td>\n",
       "      <td>[101, 2307, 2005, 1996, 2512, 1011, 5746, 2486...</td>\n",
       "      <td>[1, 1, 1, 1, 1, 1, 1, 1, 1, 1]</td>\n",
       "    </tr>\n",
       "    <tr>\n",
       "      <th>4</th>\n",
       "      <td>DVD Player crapped out after one yearI also be...</td>\n",
       "      <td>1</td>\n",
       "      <td>[101, 4966, 2447, 10231, 5669, 2041, 2044, 202...</td>\n",
       "      <td>[1, 1, 1, 1, 1, 1, 1, 1, 1, 1]</td>\n",
       "    </tr>\n",
       "  </tbody>\n",
       "</table>\n",
       "</div>\n",
       "    <div class=\"colab-df-buttons\">\n",
       "\n",
       "  <div class=\"colab-df-container\">\n",
       "    <button class=\"colab-df-convert\" onclick=\"convertToInteractive('df-f49f8861-eb1e-4647-9aa5-adb35eb18c87')\"\n",
       "            title=\"Convert this dataframe to an interactive table.\"\n",
       "            style=\"display:none;\">\n",
       "\n",
       "  <svg xmlns=\"http://www.w3.org/2000/svg\" height=\"24px\" viewBox=\"0 -960 960 960\">\n",
       "    <path d=\"M120-120v-720h720v720H120Zm60-500h600v-160H180v160Zm220 220h160v-160H400v160Zm0 220h160v-160H400v160ZM180-400h160v-160H180v160Zm440 0h160v-160H620v160ZM180-180h160v-160H180v160Zm440 0h160v-160H620v160Z\"/>\n",
       "  </svg>\n",
       "    </button>\n",
       "\n",
       "  <style>\n",
       "    .colab-df-container {\n",
       "      display:flex;\n",
       "      gap: 12px;\n",
       "    }\n",
       "\n",
       "    .colab-df-convert {\n",
       "      background-color: #E8F0FE;\n",
       "      border: none;\n",
       "      border-radius: 50%;\n",
       "      cursor: pointer;\n",
       "      display: none;\n",
       "      fill: #1967D2;\n",
       "      height: 32px;\n",
       "      padding: 0 0 0 0;\n",
       "      width: 32px;\n",
       "    }\n",
       "\n",
       "    .colab-df-convert:hover {\n",
       "      background-color: #E2EBFA;\n",
       "      box-shadow: 0px 1px 2px rgba(60, 64, 67, 0.3), 0px 1px 3px 1px rgba(60, 64, 67, 0.15);\n",
       "      fill: #174EA6;\n",
       "    }\n",
       "\n",
       "    .colab-df-buttons div {\n",
       "      margin-bottom: 4px;\n",
       "    }\n",
       "\n",
       "    [theme=dark] .colab-df-convert {\n",
       "      background-color: #3B4455;\n",
       "      fill: #D2E3FC;\n",
       "    }\n",
       "\n",
       "    [theme=dark] .colab-df-convert:hover {\n",
       "      background-color: #434B5C;\n",
       "      box-shadow: 0px 1px 3px 1px rgba(0, 0, 0, 0.15);\n",
       "      filter: drop-shadow(0px 1px 2px rgba(0, 0, 0, 0.3));\n",
       "      fill: #FFFFFF;\n",
       "    }\n",
       "  </style>\n",
       "\n",
       "    <script>\n",
       "      const buttonEl =\n",
       "        document.querySelector('#df-f49f8861-eb1e-4647-9aa5-adb35eb18c87 button.colab-df-convert');\n",
       "      buttonEl.style.display =\n",
       "        google.colab.kernel.accessAllowed ? 'block' : 'none';\n",
       "\n",
       "      async function convertToInteractive(key) {\n",
       "        const element = document.querySelector('#df-f49f8861-eb1e-4647-9aa5-adb35eb18c87');\n",
       "        const dataTable =\n",
       "          await google.colab.kernel.invokeFunction('convertToInteractive',\n",
       "                                                    [key], {});\n",
       "        if (!dataTable) return;\n",
       "\n",
       "        const docLinkHtml = 'Like what you see? Visit the ' +\n",
       "          '<a target=\"_blank\" href=https://colab.research.google.com/notebooks/data_table.ipynb>data table notebook</a>'\n",
       "          + ' to learn more about interactive tables.';\n",
       "        element.innerHTML = '';\n",
       "        dataTable['output_type'] = 'display_data';\n",
       "        await google.colab.output.renderOutput(dataTable, element);\n",
       "        const docLink = document.createElement('div');\n",
       "        docLink.innerHTML = docLinkHtml;\n",
       "        element.appendChild(docLink);\n",
       "      }\n",
       "    </script>\n",
       "  </div>\n",
       "\n",
       "\n",
       "<div id=\"df-7e870739-5812-4c2d-b4b8-ec18bd206e82\">\n",
       "  <button class=\"colab-df-quickchart\" onclick=\"quickchart('df-7e870739-5812-4c2d-b4b8-ec18bd206e82')\"\n",
       "            title=\"Suggest charts\"\n",
       "            style=\"display:none;\">\n",
       "\n",
       "<svg xmlns=\"http://www.w3.org/2000/svg\" height=\"24px\"viewBox=\"0 0 24 24\"\n",
       "     width=\"24px\">\n",
       "    <g>\n",
       "        <path d=\"M19 3H5c-1.1 0-2 .9-2 2v14c0 1.1.9 2 2 2h14c1.1 0 2-.9 2-2V5c0-1.1-.9-2-2-2zM9 17H7v-7h2v7zm4 0h-2V7h2v10zm4 0h-2v-4h2v4z\"/>\n",
       "    </g>\n",
       "</svg>\n",
       "  </button>\n",
       "\n",
       "<style>\n",
       "  .colab-df-quickchart {\n",
       "      --bg-color: #E8F0FE;\n",
       "      --fill-color: #1967D2;\n",
       "      --hover-bg-color: #E2EBFA;\n",
       "      --hover-fill-color: #174EA6;\n",
       "      --disabled-fill-color: #AAA;\n",
       "      --disabled-bg-color: #DDD;\n",
       "  }\n",
       "\n",
       "  [theme=dark] .colab-df-quickchart {\n",
       "      --bg-color: #3B4455;\n",
       "      --fill-color: #D2E3FC;\n",
       "      --hover-bg-color: #434B5C;\n",
       "      --hover-fill-color: #FFFFFF;\n",
       "      --disabled-bg-color: #3B4455;\n",
       "      --disabled-fill-color: #666;\n",
       "  }\n",
       "\n",
       "  .colab-df-quickchart {\n",
       "    background-color: var(--bg-color);\n",
       "    border: none;\n",
       "    border-radius: 50%;\n",
       "    cursor: pointer;\n",
       "    display: none;\n",
       "    fill: var(--fill-color);\n",
       "    height: 32px;\n",
       "    padding: 0;\n",
       "    width: 32px;\n",
       "  }\n",
       "\n",
       "  .colab-df-quickchart:hover {\n",
       "    background-color: var(--hover-bg-color);\n",
       "    box-shadow: 0 1px 2px rgba(60, 64, 67, 0.3), 0 1px 3px 1px rgba(60, 64, 67, 0.15);\n",
       "    fill: var(--button-hover-fill-color);\n",
       "  }\n",
       "\n",
       "  .colab-df-quickchart-complete:disabled,\n",
       "  .colab-df-quickchart-complete:disabled:hover {\n",
       "    background-color: var(--disabled-bg-color);\n",
       "    fill: var(--disabled-fill-color);\n",
       "    box-shadow: none;\n",
       "  }\n",
       "\n",
       "  .colab-df-spinner {\n",
       "    border: 2px solid var(--fill-color);\n",
       "    border-color: transparent;\n",
       "    border-bottom-color: var(--fill-color);\n",
       "    animation:\n",
       "      spin 1s steps(1) infinite;\n",
       "  }\n",
       "\n",
       "  @keyframes spin {\n",
       "    0% {\n",
       "      border-color: transparent;\n",
       "      border-bottom-color: var(--fill-color);\n",
       "      border-left-color: var(--fill-color);\n",
       "    }\n",
       "    20% {\n",
       "      border-color: transparent;\n",
       "      border-left-color: var(--fill-color);\n",
       "      border-top-color: var(--fill-color);\n",
       "    }\n",
       "    30% {\n",
       "      border-color: transparent;\n",
       "      border-left-color: var(--fill-color);\n",
       "      border-top-color: var(--fill-color);\n",
       "      border-right-color: var(--fill-color);\n",
       "    }\n",
       "    40% {\n",
       "      border-color: transparent;\n",
       "      border-right-color: var(--fill-color);\n",
       "      border-top-color: var(--fill-color);\n",
       "    }\n",
       "    60% {\n",
       "      border-color: transparent;\n",
       "      border-right-color: var(--fill-color);\n",
       "    }\n",
       "    80% {\n",
       "      border-color: transparent;\n",
       "      border-right-color: var(--fill-color);\n",
       "      border-bottom-color: var(--fill-color);\n",
       "    }\n",
       "    90% {\n",
       "      border-color: transparent;\n",
       "      border-bottom-color: var(--fill-color);\n",
       "    }\n",
       "  }\n",
       "</style>\n",
       "\n",
       "  <script>\n",
       "    async function quickchart(key) {\n",
       "      const quickchartButtonEl =\n",
       "        document.querySelector('#' + key + ' button');\n",
       "      quickchartButtonEl.disabled = true;  // To prevent multiple clicks.\n",
       "      quickchartButtonEl.classList.add('colab-df-spinner');\n",
       "      try {\n",
       "        const charts = await google.colab.kernel.invokeFunction(\n",
       "            'suggestCharts', [key], {});\n",
       "      } catch (error) {\n",
       "        console.error('Error during call to suggestCharts:', error);\n",
       "      }\n",
       "      quickchartButtonEl.classList.remove('colab-df-spinner');\n",
       "      quickchartButtonEl.classList.add('colab-df-quickchart-complete');\n",
       "    }\n",
       "    (() => {\n",
       "      let quickchartButtonEl =\n",
       "        document.querySelector('#df-7e870739-5812-4c2d-b4b8-ec18bd206e82 button');\n",
       "      quickchartButtonEl.style.display =\n",
       "        google.colab.kernel.accessAllowed ? 'block' : 'none';\n",
       "    })();\n",
       "  </script>\n",
       "</div>\n",
       "\n",
       "    </div>\n",
       "  </div>\n"
      ],
      "text/plain": [
       "                                                text  annotation  \\\n",
       "0  One of the best game music soundtracks - for a...           0   \n",
       "1  Batteries died within a year ...I bought this ...           1   \n",
       "2  works fine, but Maha Energy is betterCheck out...           0   \n",
       "3  Great for the non-audiophileReviewed quite a b...           0   \n",
       "4  DVD Player crapped out after one yearI also be...           1   \n",
       "\n",
       "                                           input_ids  \\\n",
       "0  [101, 2028, 1997, 1996, 2190, 2208, 2189, 2424...   \n",
       "1  [101, 10274, 2351, 2306, 1037, 2095, 1012, 101...   \n",
       "2  [101, 2573, 2986, 1010, 2021, 24404, 2943, 200...   \n",
       "3  [101, 2307, 2005, 1996, 2512, 1011, 5746, 2486...   \n",
       "4  [101, 4966, 2447, 10231, 5669, 2041, 2044, 202...   \n",
       "\n",
       "                   attention_mask  \n",
       "0  [1, 1, 1, 1, 1, 1, 1, 1, 1, 1]  \n",
       "1  [1, 1, 1, 1, 1, 1, 1, 1, 1, 1]  \n",
       "2  [1, 1, 1, 1, 1, 1, 1, 1, 1, 1]  \n",
       "3  [1, 1, 1, 1, 1, 1, 1, 1, 1, 1]  \n",
       "4  [1, 1, 1, 1, 1, 1, 1, 1, 1, 1]  "
      ]
     },
     "execution_count": 22,
     "metadata": {},
     "output_type": "execute_result"
    }
   ],
   "source": [
    "import pandas as pd\n",
    "\n",
    "# Load the preprocessed data with error handling\n",
    "file_path = '/content/preprocessed_data.csv'\n",
    "data = pd.read_csv(file_path, on_bad_lines='skip')\n",
    "\n",
    "data.head()"
   ]
  },
  {
   "cell_type": "code",
   "execution_count": null,
   "id": "82f3b334",
   "metadata": {
    "id": "82f3b334"
   },
   "outputs": [],
   "source": [
    "import tensorflow as tf\n",
    "from transformers import BertTokenizer, TFBertForSequenceClassification\n",
    "# Initialize the BERT tokenizer\n",
    "tokenizer = BertTokenizer.from_pretrained('bert-base-cased')\n",
    "\n",
    "# Tokenize the data\n",
    "def tokenize_text(text):\n",
    "    return tokenizer(text, padding='max_length', max_length=128, truncation=True, return_tensors='tf')\n",
    "\n",
    "# Apply the tokenizer to your text data\n",
    "tokenized_data = data['text'].apply(tokenize_text)"
   ]
  },
  {
   "cell_type": "code",
   "execution_count": null,
   "id": "g_IRzyjQYauh",
   "metadata": {
    "colab": {
     "base_uri": "https://localhost:8080/"
    },
    "id": "g_IRzyjQYauh",
    "outputId": "d3381012-8483-47d2-8abf-227ab59358c3"
   },
   "outputs": [
    {
     "name": "stdout",
     "output_type": "stream",
     "text": [
      "                                                text  annotation  \\\n",
      "0  One of the best game music soundtracks - for a...           0   \n",
      "1  Batteries died within a year ...I bought this ...           1   \n",
      "2  works fine, but Maha Energy is betterCheck out...           0   \n",
      "3  Great for the non-audiophileReviewed quite a b...           0   \n",
      "4  DVD Player crapped out after one yearI also be...           1   \n",
      "\n",
      "                                           input_ids  \\\n",
      "0  [101, 2028, 1997, 1996, 2190, 2208, 2189, 2424...   \n",
      "1  [101, 10274, 2351, 2306, 1037, 2095, 1012, 101...   \n",
      "2  [101, 2573, 2986, 1010, 2021, 24404, 2943, 200...   \n",
      "3  [101, 2307, 2005, 1996, 2512, 1011, 5746, 2486...   \n",
      "4  [101, 4966, 2447, 10231, 5669, 2041, 2044, 202...   \n",
      "\n",
      "                   attention_mask  \n",
      "0  [1, 1, 1, 1, 1, 1, 1, 1, 1, 1]  \n",
      "1  [1, 1, 1, 1, 1, 1, 1, 1, 1, 1]  \n",
      "2  [1, 1, 1, 1, 1, 1, 1, 1, 1, 1]  \n",
      "3  [1, 1, 1, 1, 1, 1, 1, 1, 1, 1]  \n",
      "4  [1, 1, 1, 1, 1, 1, 1, 1, 1, 1]  \n"
     ]
    }
   ],
   "source": [
    "# Convert tokenized data to tensors\n",
    "input_ids = tf.convert_to_tensor([x['input_ids'][0] for x in tokenized_data])\n",
    "attention_masks = tf.convert_to_tensor([x['attention_mask'][0] for x in tokenized_data])\n",
    "labels = tf.convert_to_tensor(data['annotation'].values)\n",
    "\n",
    "# Display the first few rows of the data\n",
    "print(data.head())"
   ]
  },
  {
   "cell_type": "code",
   "execution_count": null,
   "id": "cb8d7f04",
   "metadata": {
    "id": "cb8d7f04"
   },
   "outputs": [],
   "source": [
    "# Split the data into training and validation sets using TensorFlow\n",
    "dataset_size = len(input_ids)\n",
    "indices = tf.range(start=0, limit=dataset_size, dtype=tf.int32)\n",
    "indices = tf.random.shuffle(indices)\n",
    "\n",
    "train_size = int(0.9 * dataset_size)\n",
    "train_indices = indices[:train_size]\n",
    "val_indices = indices[train_size:]\n",
    "\n",
    "train_inputs = tf.gather(input_ids, train_indices)\n",
    "train_masks = tf.gather(attention_masks, train_indices)\n",
    "train_labels = tf.gather(labels, train_indices)\n",
    "\n",
    "val_inputs = tf.gather(input_ids, val_indices)\n",
    "val_masks = tf.gather(attention_masks, val_indices)\n",
    "val_labels = tf.gather(labels, val_indices)"
   ]
  },
  {
   "cell_type": "code",
   "execution_count": null,
   "id": "db317951",
   "metadata": {
    "colab": {
     "base_uri": "https://localhost:8080/"
    },
    "id": "db317951",
    "outputId": "6247c437-436d-4f7e-9b5e-40734287c28d"
   },
   "outputs": [
    {
     "name": "stderr",
     "output_type": "stream",
     "text": [
      "All PyTorch model weights were used when initializing TFBertForSequenceClassification.\n",
      "\n",
      "Some weights or buffers of the TF 2.0 model TFBertForSequenceClassification were not initialized from the PyTorch model and are newly initialized: ['classifier.weight', 'classifier.bias']\n",
      "You should probably TRAIN this model on a down-stream task to be able to use it for predictions and inference.\n"
     ]
    }
   ],
   "source": [
    "# Load BERT model\n",
    "model = TFBertForSequenceClassification.from_pretrained('bert-base-cased', num_labels=2)"
   ]
  },
  {
   "cell_type": "code",
   "execution_count": null,
   "id": "8a07e269",
   "metadata": {
    "id": "8a07e269"
   },
   "outputs": [],
   "source": [
    "# Compile the model\n",
    "model.compile(\n",
    "    optimizer=tf.keras.optimizers.Adam(learning_rate=2e-5),\n",
    "    loss=tf.keras.losses.SparseCategoricalCrossentropy(from_logits=True),\n",
    "    metrics=['accuracy']\n",
    ")"
   ]
  },
  {
   "cell_type": "code",
   "execution_count": null,
   "id": "35423571",
   "metadata": {
    "colab": {
     "base_uri": "https://localhost:8080/"
    },
    "id": "35423571",
    "outputId": "7ba88789-398e-4701-d26e-0ff5227efd3a"
   },
   "outputs": [
    {
     "name": "stdout",
     "output_type": "stream",
     "text": [
      "Model: \"tf_bert_for_sequence_classification_1\"\n",
      "_________________________________________________________________\n",
      " Layer (type)                Output Shape              Param #   \n",
      "=================================================================\n",
      " bert (TFBertMainLayer)      multiple                  108310272 \n",
      "                                                                 \n",
      " dropout_75 (Dropout)        multiple                  0 (unused)\n",
      "                                                                 \n",
      " classifier (Dense)          multiple                  1538      \n",
      "                                                                 \n",
      "=================================================================\n",
      "Total params: 108311810 (413.18 MB)\n",
      "Trainable params: 108311810 (413.18 MB)\n",
      "Non-trainable params: 0 (0.00 Byte)\n",
      "_________________________________________________________________\n"
     ]
    }
   ],
   "source": [
    "# Display model summary\n",
    "model.summary()"
   ]
  },
  {
   "cell_type": "code",
   "execution_count": null,
   "id": "742718c3",
   "metadata": {
    "colab": {
     "base_uri": "https://localhost:8080/"
    },
    "id": "742718c3",
    "outputId": "53ff2f91-c15f-4c65-b84d-6fc22a11a1b0"
   },
   "outputs": [
    {
     "name": "stdout",
     "output_type": "stream",
     "text": [
      "Epoch 1/3\n",
      "3938/3938 [==============================] - 1770s 441ms/step - loss: 0.1996 - accuracy: 0.9220 - val_loss: 0.1614 - val_accuracy: 0.9379\n",
      "Epoch 2/3\n",
      "3938/3938 [==============================] - 1733s 440ms/step - loss: 0.1084 - accuracy: 0.9627 - val_loss: 0.1634 - val_accuracy: 0.9403\n",
      "Epoch 3/3\n",
      "3938/3938 [==============================] - 1728s 439ms/step - loss: 0.0630 - accuracy: 0.9797 - val_loss: 0.1751 - val_accuracy: 0.9364\n"
     ]
    }
   ],
   "source": [
    "# Train the model\n",
    "history = model.fit(\n",
    "    [train_inputs, train_masks],\n",
    "    train_labels,\n",
    "    validation_data=([val_inputs, val_masks], val_labels),\n",
    "    epochs=3,\n",
    "    batch_size=16\n",
    ")"
   ]
  },
  {
   "cell_type": "code",
   "execution_count": null,
   "id": "618f91f9",
   "metadata": {
    "id": "618f91f9"
   },
   "outputs": [],
   "source": [
    "# Save the model and tokenizer\n",
    "model.save_pretrained('text_moderation_model')"
   ]
  },
  {
   "cell_type": "code",
   "execution_count": null,
   "id": "iEIinwxjwt6i",
   "metadata": {
    "id": "iEIinwxjwt6i"
   },
   "outputs": [],
   "source": [
    "import pickle\n",
    "\n",
    "# Save the tokenizer\n",
    "with open('tokenizer.pkl', 'wb') as f:\n",
    "    pickle.dump(tokenizer, f)\n"
   ]
  },
  {
   "cell_type": "code",
   "execution_count": null,
   "id": "8MelckScxj4d",
   "metadata": {
    "colab": {
     "base_uri": "https://localhost:8080/"
    },
    "id": "8MelckScxj4d",
    "outputId": "04ae403a-23e7-4e2a-fe67-922f1cdaa5c9"
   },
   "outputs": [
    {
     "name": "stdout",
     "output_type": "stream",
     "text": [
      "219/219 [==============================] - 64s 290ms/step - loss: 0.1751 - accuracy: 0.9364\n",
      "Validation Loss: 0.17511479556560516\n",
      "Validation Accuracy: 0.9364285469055176\n"
     ]
    }
   ],
   "source": [
    "# Evaluate the model\n",
    "loss, accuracy = model.evaluate([val_inputs, val_masks], val_labels)\n",
    "print(f'Validation Loss: {loss}')\n",
    "print(f'Validation Accuracy: {accuracy}')"
   ]
  },
  {
   "cell_type": "markdown",
   "id": "WxZm1HA-F5a6",
   "metadata": {
    "id": "WxZm1HA-F5a6"
   },
   "source": []
  },
  {
   "cell_type": "code",
   "execution_count": null,
   "id": "wCinh1zUxkAW",
   "metadata": {
    "colab": {
     "base_uri": "https://localhost:8080/"
    },
    "id": "wCinh1zUxkAW",
    "outputId": "bb6af8ec-e199-4df9-8b75-680a554f7a03"
   },
   "outputs": [
    {
     "name": "stdout",
     "output_type": "stream",
     "text": [
      "219/219 [==============================] - 71s 290ms/step\n",
      "Classification Report:\n",
      "              precision    recall  f1-score   support\n",
      "\n",
      "           0       0.95      0.93      0.94      3627\n",
      "           1       0.92      0.95      0.93      3373\n",
      "\n",
      "    accuracy                           0.94      7000\n",
      "   macro avg       0.94      0.94      0.94      7000\n",
      "weighted avg       0.94      0.94      0.94      7000\n",
      "\n"
     ]
    }
   ],
   "source": [
    "import numpy as np\n",
    "from sklearn.metrics import classification_report, confusion_matrix, ConfusionMatrixDisplay, precision_score, recall_score, f1_score\n",
    "# Predict on the validation set\n",
    "val_predictions = model.predict([val_inputs, val_masks])\n",
    "val_pred_labels = np.argmax(val_predictions.logits, axis=1)\n",
    "\n",
    "# Classification report\n",
    "print(\"Classification Report:\")\n",
    "print(classification_report(val_labels, val_pred_labels))"
   ]
  },
  {
   "cell_type": "code",
   "execution_count": null,
   "id": "wpFIWNxSxkGt",
   "metadata": {
    "colab": {
     "base_uri": "https://localhost:8080/"
    },
    "id": "wpFIWNxSxkGt",
    "outputId": "b2b1d503-1d5f-4d7f-c480-14f1b5f60865"
   },
   "outputs": [
    {
     "name": "stdout",
     "output_type": "stream",
     "text": [
      "Precision: 0.923121387283237\n",
      "Recall: 0.9469315149718351\n",
      "F1 Score: 0.9348748719449729\n"
     ]
    }
   ],
   "source": [
    "# Calculate precision, recall, and F1-score\n",
    "precision = precision_score(val_labels, val_pred_labels)\n",
    "recall = recall_score(val_labels, val_pred_labels)\n",
    "f1 = f1_score(val_labels, val_pred_labels)\n",
    "\n",
    "print(f'Precision: {precision}')\n",
    "print(f'Recall: {recall}')\n",
    "print(f'F1 Score: {f1}')\n"
   ]
  },
  {
   "cell_type": "code",
   "execution_count": null,
   "id": "bTyssDwAyQP_",
   "metadata": {
    "colab": {
     "base_uri": "https://localhost:8080/",
     "height": 501
    },
    "id": "bTyssDwAyQP_",
    "outputId": "a225b452-761e-4853-fc5e-0c47777f38c5"
   },
   "outputs": [
    {
     "name": "stdout",
     "output_type": "stream",
     "text": [
      "Confusion Matrix:\n",
      "[[3361  266]\n",
      " [ 179 3194]]\n"
     ]
    },
    {
     "data": {
      "image/png": "[encoded data removed]",
      "text/plain": [
       "<Figure size 640x480 with 2 Axes>"
      ]
     },
     "metadata": {},
     "output_type": "display_data"
    }
   ],
   "source": [
    "# Confusion matrix\n",
    "cm = confusion_matrix(val_labels, val_pred_labels)\n",
    "print(\"Confusion Matrix:\")\n",
    "print(cm)\n",
    "\n",
    "# Plot confusion matrix\n",
    "disp = ConfusionMatrixDisplay(confusion_matrix=cm)\n",
    "disp.plot()\n",
    "plt.show()"
   ]
  },
  {
   "cell_type": "code",
   "execution_count": null,
   "id": "7DCv094Qy7qf",
   "metadata": {
    "id": "7DCv094Qy7qf"
   },
   "outputs": [],
   "source": []
  }
 ],
 "metadata": {
  "accelerator": "GPU",
  "colab": {
   "gpuType": "T4",
   "provenance": []
  },
  "kernelspec": {
   "display_name": "Python 3 (ipykernel)",
   "language": "python",
   "name": "python3"
  },
  "language_info": {
   "codemirror_mode": {
    "name": "ipython",
    "version": 3
   },
   "file_extension": ".py",
   "mimetype": "text/x-python",
   "name": "python",
   "nbconvert_exporter": "python",
   "pygments_lexer": "ipython3",
   "version": "3.10.9"
  }
 },
 "nbformat": 4,
 "nbformat_minor": 5
}
